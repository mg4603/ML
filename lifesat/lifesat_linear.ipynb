{
  "nbformat": 4,
  "nbformat_minor": 0,
  "metadata": {
    "colab": {
      "provenance": [],
      "collapsed_sections": [],
      "authorship_tag": "ABX9TyNdseYbSDw3tE5fgmAFvz3o",
      "include_colab_link": true
    },
    "kernelspec": {
      "name": "python3",
      "display_name": "Python 3"
    },
    "language_info": {
      "name": "python"
    }
  },
  "cells": [
    {
      "cell_type": "markdown",
      "metadata": {
        "id": "view-in-github",
        "colab_type": "text"
      },
      "source": [
        "<a href=\"https://colab.research.google.com/github/mg4603/ML/blob/master/lifesat/lifesat_linear.ipynb\" target=\"_parent\"><img src=\"https://colab.research.google.com/assets/colab-badge.svg\" alt=\"Open In Colab\"/></a>"
      ]
    },
    {
      "cell_type": "code",
      "source": [
        "from pandas import read_csv, merge"
      ],
      "metadata": {
        "id": "P5RW5AECK8hE"
      },
      "execution_count": 3,
      "outputs": []
    },
    {
      "cell_type": "code",
      "source": [
        "oecd_bli = read_csv('oecd_bli_2015.csv', thousands=',')\n",
        "gdp_per_capita = read_csv('gdp_per_capita.csv', thousands=',', delimiter='\\t',\n",
        "                          encoding='latin1', na_values='n/a')"
      ],
      "metadata": {
        "id": "3iIyGPXiM5A9"
      },
      "execution_count": 8,
      "outputs": []
    },
    {
      "cell_type": "code",
      "source": [
        "def prepare_country_stats(oecd_bli, gdp_per_capita):\n",
        "  oecd_bli = oecd_bli[oecd_bli['INEQUALITY'] == 'TOT']\n",
        "  oecd_bli = oecd_bli.pivot(index='Country', columns='Indicator', values='Value')\n",
        "  gdp_per_capita.rename(columns={'2015': 'GDP per capita'}, inplace=True)\n",
        "  gdp_per_capita.set_index('Country', inplace=True)\n",
        "  full_country_stats = merge(left=oecd_bli, right=gdp_per_capita,\n",
        "                             left_index=True, right_index=True)\n",
        "  full_country_stats.sort_values(by='GDP per capita', inplace=True)\n",
        "  remove_indices = [0, 1, 6, 8, 33, 34, 35]\n",
        "  keep_indices = list(set(range(36)) - set(remove_indices))\n",
        "  return full_country_stats[['GDP per capita', 'Life satisfaction']].iloc[keep_indices]"
      ],
      "metadata": {
        "id": "rIX87QvaNOb_"
      },
      "execution_count": 10,
      "outputs": []
    }
  ]
}