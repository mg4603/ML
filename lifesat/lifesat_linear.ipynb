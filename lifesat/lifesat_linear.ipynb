{
  "nbformat": 4,
  "nbformat_minor": 0,
  "metadata": {
    "colab": {
      "provenance": [],
      "collapsed_sections": [],
      "authorship_tag": "ABX9TyOkfmtZmlbdELuGp2sBD52A",
      "include_colab_link": true
    },
    "kernelspec": {
      "name": "python3",
      "display_name": "Python 3"
    },
    "language_info": {
      "name": "python"
    }
  },
  "cells": [
    {
      "cell_type": "markdown",
      "metadata": {
        "id": "view-in-github",
        "colab_type": "text"
      },
      "source": [
        "<a href=\"https://colab.research.google.com/github/mg4603/ML/blob/master/lifesat/lifesat_linear.ipynb\" target=\"_parent\"><img src=\"https://colab.research.google.com/assets/colab-badge.svg\" alt=\"Open In Colab\"/></a>"
      ]
    },
    {
      "cell_type": "code",
      "source": [
        "from pandas import read_csv"
      ],
      "metadata": {
        "id": "P5RW5AECK8hE"
      },
      "execution_count": 2,
      "outputs": []
    },
    {
      "cell_type": "code",
      "source": [
        "oecd_bli = read_csv('oecd_bli_2015.csv', thousands=',')\n",
        "gdp_pre_capita = read_csv('gdp_per_capita.csv', thousands=',', delimiter='\\t',\n",
        "                          encoding='latin1', na_values='n/a')"
      ],
      "metadata": {
        "id": "3iIyGPXiM5A9"
      },
      "execution_count": null,
      "outputs": []
    }
  ]
}